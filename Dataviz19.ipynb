{
  "nbformat": 4,
  "nbformat_minor": 0,
  "metadata": {
    "colab": {
      "name": "Dataviz19.ipynb",
      "provenance": [],
      "authorship_tag": "ABX9TyMbg7G9LFNDda0RfhBnco12",
      "include_colab_link": true
    },
    "kernelspec": {
      "name": "python3",
      "display_name": "Python 3"
    }
  },
  "cells": [
    {
      "cell_type": "markdown",
      "metadata": {
        "id": "view-in-github",
        "colab_type": "text"
      },
      "source": [
        "<a href=\"https://colab.research.google.com/github/Skentir/traffic_dataviz/blob/master/Dataviz19.ipynb\" target=\"_parent\"><img src=\"https://colab.research.google.com/assets/colab-badge.svg\" alt=\"Open In Colab\"/></a>"
      ]
    },
    {
      "cell_type": "code",
      "metadata": {
        "id": "xzl8eookZBXB",
        "colab_type": "code",
        "colab": {}
      },
      "source": [
        "import pandas as pd\n",
        "import matplotlib.pyplot as plt\n",
        "from matplotlib.ticker import FuncFormatter\n",
        "from datetime import datetime, timedelta"
      ],
      "execution_count": 0,
      "outputs": []
    },
    {
      "cell_type": "markdown",
      "metadata": {
        "id": "Gvk75tGCsCr6",
        "colab_type": "text"
      },
      "source": [
        "Import data (nrows set to 100, change for more data covered)"
      ]
    },
    {
      "cell_type": "code",
      "metadata": {
        "id": "5oMNGESnrilC",
        "colab_type": "code",
        "colab": {}
      },
      "source": [
        "df2019_1 = pd.read_csv('2018-2019/raw_mmda_feed_2019-1.csv',names=['id','traffic_route','traffic_density','day_of_week','timestamp','year','month','day','hr','min','sec','d1','d2','d3'],nrows=185000)\n",
        "df2019_2 = pd.read_csv('2018-2019/raw_mmda_feed_2019-2.csv',names=['id','traffic_route','traffic_density','day_of_week','timestamp','year','month','day','hr','min','sec','d1','d2','d3'],nrows=185000)\n",
        "df2019_3 = pd.read_csv('2018-2019/raw_mmda_feed_2019-3.csv',names=['id','traffic_route','traffic_density','day_of_week','timestamp','year','month','day','hr','min','sec','d1','d2','d3'],nrows=185000)\n",
        "df2019_4 = pd.read_csv('2018-2019/raw_mmda_feed_2019-4.csv',names=['id','traffic_route','traffic_density','day_of_week','timestamp','year','month','day','hr','min','sec','d1','d2','d3'],nrows=185000)\n",
        "df2019_5 = pd.read_csv('2018-2019/raw_mmda_feed_2019-5.csv',names=['id','traffic_route','traffic_density','day_of_week','timestamp','year','month','day','hr','min','sec','d1','d2','d3'],nrows=185000)\n",
        "df2019_6 = pd.read_csv('2018-2019/raw_mmda_feed_2019-6.csv',names=['id','traffic_route','traffic_density','day_of_week','timestamp','year','month','day','hr','min','sec','d1','d2','d3'],nrows=185000)\n",
        "df2019_7 = pd.read_csv('2018-2019/raw_mmda_feed_2019-7.csv',names=['id','traffic_route','traffic_density','day_of_week','timestamp','year','month','day','hr','min','sec','d1','d2','d3'],nrows=185000)\n",
        "df2019_8 = pd.read_csv('2018-2019/raw_mmda_feed_2019-8.csv',names=['id','traffic_route','traffic_density','day_of_week','timestamp','year','month','day','hr','min','sec','d1','d2','d3'],nrows=185000)\n",
        "df2019_9 = pd.read_csv('2018-2019/raw_mmda_feed_2019-9.csv',names=['id','traffic_route','traffic_density','day_of_week','timestamp','year','month','day','hr','min','sec','d1','d2','d3'],nrows=185000)\n",
        "df2019_10 = pd.read_csv('2018-2019/raw_mmda_feed_2019-10.csv',names=['id','traffic_route','traffic_density','day_of_week','timestamp','year','month','day','hr','min','sec','d1','d2','d3'],nrows=185000)\n",
        "df2019_11 = pd.read_csv('2018-2019/raw_mmda_feed_2019-11.csv',names=['id','traffic_route','traffic_density','day_of_week','timestamp','year','month','day','hr','min','sec','d1','d2','d3'],nrows=185000)\n",
        "df2019_12 = pd.read_csv('2018-2019/raw_mmda_feed_2019-12.csv',names=['id','traffic_route','traffic_density','day_of_week','timestamp','year','month','day','hr','min','sec','d1','d2','d3'],nrows=185000)"
      ],
      "execution_count": 0,
      "outputs": []
    },
    {
      "cell_type": "markdown",
      "metadata": {
        "id": "o6AbzqrHsMKG",
        "colab_type": "text"
      },
      "source": [
        "Join all data frames"
      ]
    },
    {
      "cell_type": "code",
      "metadata": {
        "id": "OsdFQF4crm_y",
        "colab_type": "code",
        "colab": {}
      },
      "source": [
        "df2019 = pd.concat([df2019_1, df2019_2, df2019_3, df2019_4, df2019_5, df2019_6, df2019_7,\n",
        "                   df2019_8, df2019_9, df2019_10, df2019_11, df2019_12], axis=0)"
      ],
      "execution_count": 0,
      "outputs": []
    },
    {
      "cell_type": "code",
      "metadata": {
        "id": "i2BgOh11rpv2",
        "colab_type": "code",
        "colab": {}
      },
      "source": [
        "list(df2019)"
      ],
      "execution_count": 0,
      "outputs": []
    },
    {
      "cell_type": "markdown",
      "metadata": {
        "id": "4LKbhhY9sQ97",
        "colab_type": "text"
      },
      "source": [
        "Separate the route from the bound"
      ]
    },
    {
      "cell_type": "code",
      "metadata": {
        "id": "phSJb_p4rsqY",
        "colab_type": "code",
        "colab": {}
      },
      "source": [
        "bound = []\n",
        "route = []\n",
        "for x in df2019['traffic_route']: \n",
        "    bound.append(x[-2:])\n",
        "    route.append(x[:-3])"
      ],
      "execution_count": 0,
      "outputs": []
    },
    {
      "cell_type": "markdown",
      "metadata": {
        "id": "u6_EhiwgsaBw",
        "colab_type": "text"
      },
      "source": [
        "Remove the traffic_route and add the route and bound"
      ]
    },
    {
      "cell_type": "code",
      "metadata": {
        "id": "eEFqomemru2b",
        "colab_type": "code",
        "colab": {}
      },
      "source": [
        "df2019.insert(2,'route',route)\n",
        "df2019.insert(3,'bound',bound)"
      ],
      "execution_count": 0,
      "outputs": []
    },
    {
      "cell_type": "code",
      "metadata": {
        "id": "rZgdE4C7r0Fk",
        "colab_type": "code",
        "colab": {}
      },
      "source": [
        "df2019.sample(3)\n",
        "list(df2019)"
      ],
      "execution_count": 0,
      "outputs": []
    },
    {
      "cell_type": "markdown",
      "metadata": {
        "id": "plSTI8FmshLU",
        "colab_type": "text"
      },
      "source": [
        "Separate the date and time from timestamp. Adjust time with GMT +0800\n"
      ]
    },
    {
      "cell_type": "code",
      "metadata": {
        "id": "Sb8ArayQsoJk",
        "colab_type": "code",
        "colab": {}
      },
      "source": [
        "time = []\n",
        "date = []\n",
        "for x in df2019['timestamp']: \n",
        "    time_a = x[13:21]\n",
        "    time_b = datetime.strptime(time_a, '%H:%M:%S') + timedelta(hours=8)\n",
        "    date.append(x[0:12])\n",
        "    time.append(time_b.time())"
      ],
      "execution_count": 0,
      "outputs": []
    },
    {
      "cell_type": "markdown",
      "metadata": {
        "id": "oX70S_wrsuYN",
        "colab_type": "text"
      },
      "source": [
        "Delete timestamp and add date and time columns"
      ]
    },
    {
      "cell_type": "code",
      "metadata": {
        "id": "B1e16yyss2VP",
        "colab_type": "code",
        "colab": {}
      },
      "source": [
        "del df2019['timestamp']\n",
        "df2019.insert(6,'date',date)\n",
        "df2019.insert(7,'time',time)"
      ],
      "execution_count": 0,
      "outputs": []
    },
    {
      "cell_type": "markdown",
      "metadata": {
        "id": "_FLXQVnPs6Ye",
        "colab_type": "text"
      },
      "source": [
        "Remove other unnecessary columns"
      ]
    },
    {
      "cell_type": "code",
      "metadata": {
        "id": "4cy_iHa9r29D",
        "colab_type": "code",
        "colab": {}
      },
      "source": [
        "df2019 = df2019.drop(df2019.loc[:,'day':'d3'].columns, axis=1)"
      ],
      "execution_count": 0,
      "outputs": []
    },
    {
      "cell_type": "markdown",
      "metadata": {
        "id": "xDJX2Zz586Zg",
        "colab_type": "text"
      },
      "source": [
        "Remove non-EDSA routes"
      ]
    },
    {
      "cell_type": "code",
      "metadata": {
        "id": "VK5QmCp088Vq",
        "colab_type": "code",
        "colab": {}
      },
      "source": [
        "df2019 = df2019[df2019['route'].apply(lambda x: 'EDSA' in x)]"
      ],
      "execution_count": 0,
      "outputs": []
    },
    {
      "cell_type": "markdown",
      "metadata": {
        "id": "MMgDDLM3s9Qq",
        "colab_type": "text"
      },
      "source": [
        "Sort by date and time"
      ]
    },
    {
      "cell_type": "code",
      "metadata": {
        "id": "s7zA0xZzr9S1",
        "colab_type": "code",
        "colab": {}
      },
      "source": [
        "df2019.sort_values(['date','time'], inplace=True)"
      ],
      "execution_count": 0,
      "outputs": []
    },
    {
      "cell_type": "code",
      "metadata": {
        "id": "WkiDL7iHr_iY",
        "colab_type": "code",
        "colab": {}
      },
      "source": [
        "df2019.head(5)"
      ],
      "execution_count": 0,
      "outputs": []
    }
  ]
}