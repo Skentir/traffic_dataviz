{
  "nbformat": 4,
  "nbformat_minor": 0,
  "metadata": {
    "colab": {
      "name": "Dataviz2018.ipynb",
      "provenance": [],
      "collapsed_sections": [],
      "toc_visible": true,
      "include_colab_link": true
    },
    "kernelspec": {
      "name": "python3",
      "display_name": "Python 3"
    }
  },
  "cells": [
    {
      "cell_type": "markdown",
      "metadata": {
        "id": "view-in-github",
        "colab_type": "text"
      },
      "source": [
        "<a href=\"https://colab.research.google.com/github/Skentir/traffic_dataviz/blob/master/Dataviz2018.ipynb\" target=\"_parent\"><img src=\"https://colab.research.google.com/assets/colab-badge.svg\" alt=\"Open In Colab\"/></a>"
      ]
    },
    {
      "cell_type": "code",
      "metadata": {
        "id": "5cwLtN-_spvF",
        "colab_type": "code",
        "colab": {}
      },
      "source": [
        "import pandas as pd\n",
        "import matplotlib.pyplot as plt\n",
        "from matplotlib.ticker import FuncFormatter\n",
        "from datetime import datetime, timedelta\n",
        "\n",
        "import pandas as pd\n",
        "import matplotlib.pyplot as plt\n",
        "from matplotlib.ticker import FuncFormatter\n",
        "from datetime import datetime, timedelta\n",
        "\n",
        "df2018 = pd.read_csv('2018-2019/raw_mmda_feed_2018.csv', names=['id','traffic_route','traffic_density','day_of_week','timestamp','year','month','day','hr','min','sec','d1','d2','d3'])"
      ],
      "execution_count": 0,
      "outputs": []
    },
    {
      "cell_type": "markdown",
      "metadata": {
        "id": "zmH5p1hmOtpj",
        "colab_type": "text"
      },
      "source": [
        "Separate the route from the bound"
      ]
    },
    {
      "cell_type": "code",
      "metadata": {
        "id": "lbrI8Zyks-3T",
        "colab_type": "code",
        "colab": {}
      },
      "source": [
        "bound = []\n",
        "route = []\n",
        "for x in df2018['traffic_route']: \n",
        "    bound.append(x[-2:])\n",
        "    route.append(x[:-3])"
      ],
      "execution_count": 0,
      "outputs": []
    },
    {
      "cell_type": "markdown",
      "metadata": {
        "id": "fKKhNrWUOzCN",
        "colab_type": "text"
      },
      "source": [
        "Remove the traffic_route and add the route and bound"
      ]
    },
    {
      "cell_type": "code",
      "metadata": {
        "id": "mUGN1H68tI91",
        "colab_type": "code",
        "colab": {}
      },
      "source": [
        "df2018 = df2018.drop('traffic_route', 1)\n",
        "df2018.insert(2,'route',route)\n",
        "df2018.insert(3,'bound',bound)"
      ],
      "execution_count": 0,
      "outputs": []
    },
    {
      "cell_type": "code",
      "metadata": {
        "id": "nAm_Zq8EtPDe",
        "colab_type": "code",
        "colab": {}
      },
      "source": [
        "df2018.sample(3)"
      ],
      "execution_count": 0,
      "outputs": []
    },
    {
      "cell_type": "markdown",
      "metadata": {
        "id": "CuVnmcrCO8hl",
        "colab_type": "text"
      },
      "source": [
        "Separate the date and time from timestamp. Adjust time with GMT +0800\n"
      ]
    },
    {
      "cell_type": "code",
      "metadata": {
        "id": "SUQf1ELZxOf9",
        "colab_type": "code",
        "colab": {}
      },
      "source": [
        "time = []\n",
        "date = []\n",
        "for x in df2018['timestamp']: \n",
        "    time_a = x[13:21]\n",
        "    time_b = datetime.strptime(time_a, '%H:%M:%S') + timedelta(hours=8)\n",
        "    date.append(x[0:12])\n",
        "    time.append(time_b.time())"
      ],
      "execution_count": 0,
      "outputs": []
    },
    {
      "cell_type": "markdown",
      "metadata": {
        "id": "ol3exz5xPEbg",
        "colab_type": "text"
      },
      "source": [
        "Delete timestamp and add date and time columns"
      ]
    },
    {
      "cell_type": "code",
      "metadata": {
        "id": "S8AAVGoSxQyB",
        "colab_type": "code",
        "colab": {}
      },
      "source": [
        "del df2018['timestamp']\n",
        "df2018.insert(6,'date',date)\n",
        "df2018.insert(7,'time',time)"
      ],
      "execution_count": 0,
      "outputs": []
    },
    {
      "cell_type": "markdown",
      "metadata": {
        "id": "bevnejsOPL_Q",
        "colab_type": "text"
      },
      "source": [
        "Remove other unnecessary columns"
      ]
    },
    {
      "cell_type": "code",
      "metadata": {
        "id": "RWgAmWZQOaWx",
        "colab_type": "code",
        "colab": {}
      },
      "source": [
        "df2018 = df2018.drop(df2018.loc[:,'day':'d3'].columns, axis=1)"
      ],
      "execution_count": 0,
      "outputs": []
    },
    {
      "cell_type": "code",
      "metadata": {
        "id": "vxCXRb8vOdzW",
        "colab_type": "code",
        "colab": {}
      },
      "source": [
        "list(df2018)"
      ],
      "execution_count": 0,
      "outputs": []
    },
    {
      "cell_type": "markdown",
      "metadata": {
        "id": "U5sYMN1hV8s1",
        "colab_type": "text"
      },
      "source": [
        "Sort by date and time"
      ]
    },
    {
      "cell_type": "code",
      "metadata": {
        "id": "c9dsvAHCV_b4",
        "colab_type": "code",
        "colab": {}
      },
      "source": [
        "df2018.sort_values(['date','time'], inplace=True)\n",
        "df2018.head(3)"
      ],
      "execution_count": 0,
      "outputs": []
    }
  ]
}